{
  "nbformat": 4,
  "nbformat_minor": 0,
  "metadata": {
    "colab": {
      "provenance": []
    },
    "kernelspec": {
      "name": "python3",
      "display_name": "Python 3"
    },
    "language_info": {
      "name": "python"
    }
  },
  "cells": [
    {
      "cell_type": "markdown",
      "source": [
        "#Assignment 12"
      ],
      "metadata": {
        "id": "CrmYjpRSZ4qs"
      }
    },
    {
      "cell_type": "markdown",
      "source": [
        "**Q1. Does assigning a value to a string's indexed character violate Python's string immutability ?**\n",
        "\n",
        "**Ans:** String’s indexed character cannot to be assigned a New value , as Strings are immutable.\n",
        "\n",
        "Example:\n",
        "\n",
        "name = \"Reinforcement\"\n",
        "\n",
        "print(id(name)) #73472\n",
        "\n",
        "name[0] = \"V\" # Raises TypeError"
      ],
      "metadata": {
        "id": "IYaJ2TjCZ6qj"
      }
    },
    {
      "cell_type": "markdown",
      "source": [
        "**Q2. Does using the += operator to concatenate strings violate Python's string immutability? Why or why not ?**\n",
        "\n",
        "**Ans:** += operator is used to concatenate strings, it does not violate Python’s string immutability Property. Because doing so new creates a new association with data and variable. E.g. str_1=\"a\" and str_1+=\"b. effect of this statements to create string ab and reassign it to variable str_1, any string data is not actually modified."
      ],
      "metadata": {
        "id": "xxHBTfQHahC4"
      }
    },
    {
      "cell_type": "code",
      "source": [
        "str_1 = 'a'\n",
        "print(id(str_1))\n",
        "str_1 += 'b'\n",
        "print(id(str_1))"
      ],
      "metadata": {
        "colab": {
          "base_uri": "https://localhost:8080/"
        },
        "id": "QoeFFAmvapov",
        "outputId": "bceb8ef5-8712-44ec-c087-9b5a21465bc2"
      },
      "execution_count": 1,
      "outputs": [
        {
          "output_type": "stream",
          "name": "stdout",
          "text": [
            "140330103799472\n",
            "140329616198704\n"
          ]
        }
      ]
    },
    {
      "cell_type": "markdown",
      "source": [
        "**Q3. In Python, how many different ways are there to index a character?**\n",
        "\n",
        "**Ans:** A Character in string can be indexed using string name followed by index number of character in square bracket.**Positive Indexing** i.e. first index is 0 an so on, or **Negative Indexing** i.e. last letter is -1 and so on can be used to index a character"
      ],
      "metadata": {
        "id": "ki2S5D67ao1W"
      }
    },
    {
      "cell_type": "code",
      "source": [
        "in_string = \"iNeuron Full Stack Data Science\"\n",
        "print(in_string[9],in_string[10],in_string[2]) # Positive Indexing\n",
        "print(in_string[-1],in_string[-5],in_string[-2]) # Negative Indexing"
      ],
      "metadata": {
        "colab": {
          "base_uri": "https://localhost:8080/"
        },
        "id": "JraUyVGzbbNG",
        "outputId": "c01656e9-a633-4b3c-f521-e26977e067a9"
      },
      "execution_count": 2,
      "outputs": [
        {
          "output_type": "stream",
          "name": "stdout",
          "text": [
            "u l e\n",
            "e i c\n"
          ]
        }
      ]
    },
    {
      "cell_type": "markdown",
      "source": [
        "**Q4. What is the relationship between indexing and slicing?**\n",
        "\n",
        "**Ans:** We can access elements of sequence datatypes by using slicing and indexing. Indexing is used to obtaining individual element while slicing for sequence of elements."
      ],
      "metadata": {
        "id": "2PH34SmmbvaC"
      }
    },
    {
      "cell_type": "code",
      "source": [
        "in_string = \"iNeuron Full Stack Data Science\"\n",
        "print(in_string[1],in_string[3],in_string[5]) # Indexing\n",
        "print(in_string[1:15]) # Slicing"
      ],
      "metadata": {
        "colab": {
          "base_uri": "https://localhost:8080/"
        },
        "id": "UrEI8K26cga8",
        "outputId": "33d424fd-a1c0-4fcc-e698-099d128db850"
      },
      "execution_count": 3,
      "outputs": [
        {
          "output_type": "stream",
          "name": "stdout",
          "text": [
            "N u o\n",
            "Neuron Full St\n"
          ]
        }
      ]
    },
    {
      "cell_type": "markdown",
      "source": [
        "**Q5. What is an indexed character's exact data type? What is the data form of a slicing-generated substring?**\n",
        "\n",
        "Ans: Indexed characters and sliced substrings have datatype **String**.     "
      ],
      "metadata": {
        "id": "nVBLkzdIcrEp"
      }
    },
    {
      "cell_type": "code",
      "source": [
        "in_string = \"iNeuron Full Stack Data Science\"\n",
        "print(type(in_string[3])) # Indexing -> str\n",
        "print(type(in_string[1:10])) # Indexing -> str"
      ],
      "metadata": {
        "colab": {
          "base_uri": "https://localhost:8080/"
        },
        "id": "i6oNzXBadIJr",
        "outputId": "a0c79a4d-b6de-4444-a914-19a5631778d6"
      },
      "execution_count": 4,
      "outputs": [
        {
          "output_type": "stream",
          "name": "stdout",
          "text": [
            "<class 'str'>\n",
            "<class 'str'>\n"
          ]
        }
      ]
    },
    {
      "cell_type": "markdown",
      "source": [
        "**Q6. What is the relationship between string and character \"types\" in Python?**\n",
        "\n",
        "**Ans: **Object that contains sequence of character datatypes are called String."
      ],
      "metadata": {
        "id": "SrgcbBZFdsYQ"
      }
    },
    {
      "cell_type": "markdown",
      "source": [
        "**Q7. Identify at least two operators & one method that allow you to combine one or more smaller strings to create a larger string ?**\n",
        "\n",
        "**Ans:** +, += and * allow to combine one or more smaller strings to create a larger string. **<string>.join(<sep>)** method joins element of iterable type like list and tuple to get a combined string."
      ],
      "metadata": {
        "id": "itUrAMY5eMRZ"
      }
    },
    {
      "cell_type": "code",
      "source": [
        "in_string = 'iNeuron '\n",
        "in_string += 'Full Stack Data Science'\n",
        "print(in_string + ' FSDS')\n",
        "print('FSDS '*3)\n",
        "print(\" \".join(['I','N','E','U','R','O','N'])) # List Iterable\n",
        "print(\" \".join(('I','N','E','U','R','O','N')).lower()) # Tuple Iterable"
      ],
      "metadata": {
        "colab": {
          "base_uri": "https://localhost:8080/"
        },
        "id": "APKvhBfwecgv",
        "outputId": "d7b7fe25-6087-4180-bbd8-89482fddfd90"
      },
      "execution_count": 5,
      "outputs": [
        {
          "output_type": "stream",
          "name": "stdout",
          "text": [
            "iNeuron Full Stack Data Science FSDS\n",
            "FSDS FSDS FSDS \n",
            "I N E U R O N\n",
            "i n e u r o n\n"
          ]
        }
      ]
    },
    {
      "cell_type": "markdown",
      "source": [
        "**Q8. What is the benefit of first checking the target string with in or not in before using the index method to find a substring ?**\n",
        "\n",
        "Ans: Checking the target string with **in** or **not** Operators before using the index method to find a substring just helps confirming availability of substring and thus avoid raising of **ValueError**.\n",
        "\n",
        "Example:\n",
        "\n",
        "in_string = \"ineuron\"\n",
        "\n",
        "in_string.index('x') # Raises ValueError\n",
        "\n",
        "in_string.index('u') # 3"
      ],
      "metadata": {
        "id": "nXJmDVKzeyfX"
      }
    },
    {
      "cell_type": "markdown",
      "source": [
        "**Q9. Which operators and built-in string methods produce simple Boolean (true/false) results?**\n",
        "\n",
        "**Ans:** The String Operators and built-in methods to Produce Simple Boolean (True/False) Results are:\n",
        "\n",
        "* in\n",
        "* not\n",
        "* <string>.isalpha()\n",
        "* <string>.isalnum()\n",
        "* <string>.isdecimal()\n",
        "* <string>.isdigit()\n",
        "* <string>.islower()\n",
        "* <string>.isnumeric()\n",
        "* <string>.isprintable()\n",
        "* <string>.isspace()\n",
        "* <string>.istitle()"
      ],
      "metadata": {
        "id": "M77dSPrnfXGf"
      }
    },
    {
      "cell_type": "markdown",
      "source": [],
      "metadata": {
        "id": "6IkxDx7cfqDX"
      }
    }
  ]
}