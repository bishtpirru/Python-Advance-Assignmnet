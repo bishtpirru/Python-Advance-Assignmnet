{
  "nbformat": 4,
  "nbformat_minor": 0,
  "metadata": {
    "colab": {
      "provenance": []
    },
    "kernelspec": {
      "name": "python3",
      "display_name": "Python 3"
    },
    "language_info": {
      "name": "python"
    }
  },
  "cells": [
    {
      "cell_type": "markdown",
      "source": [
        "#Assignment 4"
      ],
      "metadata": {
        "id": "HkKvt8q_UwDp"
      }
    },
    {
      "cell_type": "markdown",
      "source": [
        "**Q1. Which two operator overloading methods can you use in your classes to support iteration?**\n",
        "\n",
        "**Ans:**  __iter__ and__next__ are the operator overloading methods in python that support iteration and are collectively called iterator protocol.\n",
        "\n",
        "1__iter__ returns the iterator object and is called at the start of loop in our respective class.\n",
        "\n",
        "2__next__ is called at each loop increment, it returns the incremented value. Also Stopiteration is raised when there is no value to return."
      ],
      "metadata": {
        "id": "Lfxc5dLqUz5I"
      }
    },
    {
      "cell_type": "code",
      "source": [
        "class Counter:\n",
        "    def __init__(self,low,high):\n",
        "        self.current = low\n",
        "        self.high = high\n",
        "    def __iter__(self):\n",
        "        return self\n",
        "    def __next__(self):\n",
        "        if self.current > self.high:\n",
        "            raise StopIteration\n",
        "        else:\n",
        "            self.current += 1\n",
        "            return self.current - 1\n",
        "for ele in Counter(5,30):\n",
        "    print(ele, end=\" \")"
      ],
      "metadata": {
        "colab": {
          "base_uri": "https://localhost:8080/"
        },
        "id": "O5NWCkq-VpmG",
        "outputId": "bc14cfc1-0d5b-459d-bf11-0316bf734cd1"
      },
      "execution_count": null,
      "outputs": [
        {
          "output_type": "stream",
          "name": "stdout",
          "text": [
            "5 6 7 8 9 10 11 12 13 14 15 16 17 18 19 20 21 22 23 24 25 26 27 28 29 30 "
          ]
        }
      ]
    },
    {
      "cell_type": "markdown",
      "source": [
        "**Q2. In what contexts do the two operator overloading methods manage printing?**\n",
        "\n",
        "**Ans:** __str__ and __repr__ are two operator overloading methods that manage printing.\n",
        "\n",
        "* In Short, the difference between both these operators is the goal of__repr__ \n",
        " is to be unambiguous and__str__ is to be readable.\n",
        "\n",
        "* Whenever we are printing any object reference internally__str__ method will \n",
        "   be called by default.\n",
        "\n",
        "* The main purpose of__str__ is for readability. it prints the informal string \n",
        "  representation of an object, one that is useful for printing the object. it may not be possible to convert result string to original object.\n",
        "\n",
        "* __repr__ is used to print official string representation of an object, so it \n",
        " includes all information and development."
      ],
      "metadata": {
        "id": "rhKP8u03WfDp"
      }
    },
    {
      "cell_type": "code",
      "source": [
        "class Student:\n",
        "    def __init__(self,name,roll_no):\n",
        "        self.name = name\n",
        "        self.roll_no = roll_no\n",
        "        \n",
        "s1 = Student(\"Mano\",1)\n",
        "print(str(s1))\n",
        "\n",
        "class Student:\n",
        "    def __init__(self,name,roll_no):\n",
        "        self.name = name\n",
        "        self.roll_no = roll_no\n",
        "    def __str__(self):\n",
        "        return f'Student Name: {self.name} and Roll No: {self.roll_no}'\n",
        "    \n",
        "s1 = Student(\"Mano\",1)\n",
        "print(str(s1))\n",
        "\n",
        "import datetime\n",
        "today = datetime.datetime.now()\n",
        "\n",
        "s = str(today) # converting datetime object to presentable str\n",
        "print(s)\n",
        "try: d = eval(s) # converting str back to datetime object\n",
        "except: print(\"Unable to convert back to original object\")\n",
        "    \n",
        "u = repr(today) # converting datetime object to str\n",
        "print(u)\n",
        "e = eval(u) # converting str back to datetime object\n",
        "print(e)\n"
      ],
      "metadata": {
        "colab": {
          "base_uri": "https://localhost:8080/"
        },
        "id": "c_X1Evq5WsUK",
        "outputId": "bf63150e-675b-4b27-d447-a6723f8c345e"
      },
      "execution_count": null,
      "outputs": [
        {
          "output_type": "stream",
          "name": "stdout",
          "text": [
            "<__main__.Student object at 0x7ffb8e6534c0>\n",
            "Student Name: Mano and Roll No: 1\n",
            "2023-05-10 06:33:43.957423\n",
            "Unable to convert back to original object\n",
            "datetime.datetime(2023, 5, 10, 6, 33, 43, 957423)\n",
            "2023-05-10 06:33:43.957423\n"
          ]
        }
      ]
    },
    {
      "cell_type": "markdown",
      "source": [
        "**Q3. In a class, how do you intercept slice operations?**\n",
        "\n",
        "**Ans:** In a class use of slice() in__getitem__ method is used for intercept slice operation. This slice method is provided with start integer number, stop integer number and step integer number.\n",
        "\n",
        "Example: __getitem__(slice(start,stop,step))"
      ],
      "metadata": {
        "id": "lQsr7BLkXfZ7"
      }
    },
    {
      "cell_type": "markdown",
      "source": [
        "**Q4. In a class, how do you capture in-place addition?**\n",
        "\n",
        "**Ans:**  a+b is normal addition. Whereas a+=b is inplace addition operation. In this in-place addition a itself will store the value of addition. In a class__iadd__ method is used for this in-place operation"
      ],
      "metadata": {
        "id": "3Rikk7n9YIEr"
      }
    },
    {
      "cell_type": "code",
      "source": [
        "class Book:\n",
        "    def __init__(self,pages):\n",
        "        self.pages = pages\n",
        "    def __iadd__(self,other):\n",
        "        self.pages += other.pages\n",
        "        return self.pages\n",
        "        \n",
        "b1 = Book(100)\n",
        "b2 = Book(200)\n",
        "b1+=b2\n",
        "print(b1)"
      ],
      "metadata": {
        "colab": {
          "base_uri": "https://localhost:8080/"
        },
        "id": "b7cocL3eXgMW",
        "outputId": "32a71006-a835-44ec-96c8-084249a6f008"
      },
      "execution_count": null,
      "outputs": [
        {
          "output_type": "stream",
          "name": "stdout",
          "text": [
            "300\n"
          ]
        }
      ]
    },
    {
      "cell_type": "markdown",
      "source": [
        "**Q5. When is it appropriate to use operator overloading?**\n",
        "\n",
        "**Ans:** Operator overloading is used when we want to use an operator other than its normal operation to have different meaning according to the context required in user defined function."
      ],
      "metadata": {
        "id": "aEguZQEDYg42"
      }
    },
    {
      "cell_type": "code",
      "source": [
        "class Book:\n",
        "    def __init__(self,pages):\n",
        "        self.pages = pages\n",
        "    def __add__(self,other):\n",
        "        return self.pages+other.pages\n",
        "b1 = Book(100)\n",
        "b2 = Book(200)\n",
        "print(f'Total Number of Pages -> {b1+b2}')"
      ],
      "metadata": {
        "colab": {
          "base_uri": "https://localhost:8080/"
        },
        "id": "SEgJi5ldYAs1",
        "outputId": "b00aa367-59e9-440b-84d9-303c787ea049"
      },
      "execution_count": null,
      "outputs": [
        {
          "output_type": "stream",
          "name": "stdout",
          "text": [
            "Total Number of Pages -> 300\n"
          ]
        }
      ]
    }
  ]
}