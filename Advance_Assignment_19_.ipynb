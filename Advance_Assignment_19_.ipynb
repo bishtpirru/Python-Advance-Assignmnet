{
  "nbformat": 4,
  "nbformat_minor": 0,
  "metadata": {
    "colab": {
      "provenance": []
    },
    "kernelspec": {
      "name": "python3",
      "display_name": "Python 3"
    },
    "language_info": {
      "name": "python"
    }
  },
  "cells": [
    {
      "cell_type": "markdown",
      "source": [
        "#Assignment 19"
      ],
      "metadata": {
        "id": "6hyKY7pZ68wx"
      }
    },
    {
      "cell_type": "markdown",
      "source": [
        "**Q1. Define the relationship between a class and its instances. Is it a one-to-one or a one-to-many partnership, for example?**\n",
        "\n",
        "**Ans:** Relationship between a class and its instances is a one to many partnership."
      ],
      "metadata": {
        "id": "Nq9WaEsI68z8"
      }
    },
    {
      "cell_type": "markdown",
      "source": [
        "**Q2. What kind of data is held only in an instance?**\n",
        "\n",
        "**Ans:** Instance objects contains the Instance variables which are specific to that specific Instance object."
      ],
      "metadata": {
        "id": "qthzTB8d682M"
      }
    },
    {
      "cell_type": "markdown",
      "source": [
        "Q**3. What kind of knowledge is stored in a class?**\n",
        "\n",
        "**Ans:** Class creates a user-defined data structure, which holds its own data members and member functions, which can be accessed and used by creating an instance of that class. A class is like a blueprint for an object."
      ],
      "metadata": {
        "id": "6BB2Tg66684s"
      }
    },
    {
      "cell_type": "markdown",
      "source": [
        "**Q4. What exactly is a method, and how is it different from a regular function?**\n",
        "\n",
        "**Ans:** The methods with a class can be used to access the insatnce variables of its instance. So,the object's state can be modified by its method. Function can't access the attributes of an instance of a class or can't modify the state of the object."
      ],
      "metadata": {
        "id": "YSEZU-iX6864"
      }
    },
    {
      "cell_type": "markdown",
      "source": [
        "**Q5. Is inheritance supported in Python, and if so, what is the syntax?**\n",
        "\n",
        "**Ans:** Yes,Python supports inheritance. The Types of Inheritence Supported by Python are:\n",
        "\n",
        "1.Simple Inheritence\n",
        "\n",
        "2.Multiple Inheritence\n",
        "\n",
        "3.Multilevel lInheritence\n",
        "\n",
        "4.Hybrid Inheritence\n",
        "\n",
        "5.Hierracial Inheritence"
      ],
      "metadata": {
        "id": "kWPtyrjb6-mY"
      }
    },
    {
      "cell_type": "code",
      "source": [
        "class Person:\n",
        "    def __init__(self, fname, lname):\n",
        "        self.first_name = fname\n",
        "        self.last_name = lname\n",
        "class Student(Person):\n",
        "    pass"
      ],
      "metadata": {
        "id": "A3ztTZJT8BAz"
      },
      "execution_count": 1,
      "outputs": []
    },
    {
      "cell_type": "markdown",
      "source": [
        "**Q6. How much encapsulation (making instance or class variables private) does Python support?**\n",
        "\n",
        "**Ans:** Encapsulation describes the idea of wrapping data and the methods that work on data within one unit. This puts restrictions on accessing variables and methods directly and can prevent the accidental modification of data. To prevent accidental change, an objects variable can only be changed by an objects method."
      ],
      "metadata": {
        "id": "GAAyWP_x6-ob"
      }
    },
    {
      "cell_type": "markdown",
      "source": [
        "**Q7. How do you distinguish between a class variable and an instance variable?**\n",
        "\n",
        "**Ans:** The **Class Attribute** is available to all the instance objects of that class. whereas **Instance Attributes** are accessible only to the object or Instance of that class.\n",
        "\n",
        "A single copy of Class attributes is maintained by pvm at the class level. Whereas difference copies of instance attributes are maintained by pvm at objects/instance level."
      ],
      "metadata": {
        "id": "vRf9tgEM7r7_"
      }
    },
    {
      "cell_type": "markdown",
      "source": [
        "**Q8. When, if ever, can self be included in a class's method definitions?**\n",
        "\n",
        "**Ans:** Yes, self can included in class method definations to access the instance variables inside class methods."
      ],
      "metadata": {
        "id": "1s7ghzBe7r_R"
      }
    },
    {
      "cell_type": "markdown",
      "source": [
        "**Q9. What is the difference between the__add__ and the__radd__ methods ?**\n",
        "\n",
        "**Ans:** Entering__radd__ Python will first try__add__(), and if that returns Not Implemented Python will check if the right-hand operand implements__radd__, and if it does, it will call__radd__() rather than raising a **TypeError**"
      ],
      "metadata": {
        "id": "hfUE5ZN-7sDR"
      }
    },
    {
      "cell_type": "markdown",
      "source": [
        "**Q10. When is it necessary to use a reflection method? When do you not need it, even though you support the operation in question?**\n",
        "\n",
        "**Ans:** Reflection method we often encounter the requirement that a method in the executing object, or a variable in the calling object, or a field of the object should be assigned, while the method name or field name can not be determined when encoding the code, and need to be input in the form of passing strings through parameters."
      ],
      "metadata": {
        "id": "i_6KbWap8doo"
      }
    },
    {
      "cell_type": "markdown",
      "source": [
        "**Q11. What is the__iadd__ method called?**\n",
        "\n",
        "**Ans:** __iadd__ method is called when we use implementation like a+=b which is a.__iadd__(b)"
      ],
      "metadata": {
        "id": "E8RAmzrR8drC"
      }
    },
    {
      "cell_type": "markdown",
      "source": [
        "**Q12. Is the _ _init_ _ method inherited by subclasses? What do you do if you need to customize its behavior within a subclass ?**\n",
        "\n",
        "**Ans:** Yes, _ _init_ _ method will be inherited by subclasses. if we want to customize its behaviour within a subclass we can use **super()** method."
      ],
      "metadata": {
        "id": "juEUzdJ28eZE"
      }
    },
    {
      "cell_type": "markdown",
      "source": [],
      "metadata": {
        "id": "JHegmszS9UHw"
      }
    }
  ]
}