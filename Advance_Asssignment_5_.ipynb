{
  "nbformat": 4,
  "nbformat_minor": 0,
  "metadata": {
    "colab": {
      "provenance": []
    },
    "kernelspec": {
      "name": "python3",
      "display_name": "Python 3"
    },
    "language_info": {
      "name": "python"
    }
  },
  "cells": [
    {
      "cell_type": "markdown",
      "source": [
        "#Assignemt 5"
      ],
      "metadata": {
        "id": "tqlJ_5ULN285"
      }
    },
    {
      "cell_type": "markdown",
      "source": [
        "**Q1. What is the meaning of multiple inheritance?**\n",
        "\n",
        "**Ans:** Inheritence is nothing but reusing the code of Parent class by the child class. Similary when a child class inherits its properties from multiple Parent classes this scenario is called **Multiple Inheritence**"
      ],
      "metadata": {
        "id": "0BIBfW4GN3KZ"
      }
    },
    {
      "cell_type": "code",
      "source": [
        "class Parent_one:\n",
        "    pass\n",
        "class Parent_two:\n",
        "    pass\n",
        "class child(Parent_one,Parent_two):\n",
        "    pass"
      ],
      "metadata": {
        "id": "bZ7kYJurOkjB"
      },
      "execution_count": 1,
      "outputs": []
    },
    {
      "cell_type": "markdown",
      "source": [
        "**Q2. What is the concept of delegation?**\n",
        "\n",
        "**Ans:** Delegation provides a proxy object for any class thay you want on top of the main class. its like a wrapper to your class so that you can access limited resources of the main class.\n",
        "\n",
        "it Wraps the object of main class into a smaller object with limited access\n",
        "\n",
        "Simply Delegation means that you can include a instance of another class as an instance variable, and forward messages to the instance."
      ],
      "metadata": {
        "id": "IBSGAmOnO0UO"
      }
    },
    {
      "cell_type": "code",
      "source": [
        "class Myclass:\n",
        "    def sayHi(self):\n",
        "        print('Hey iam back')\n",
        "    def whoAmI(self):\n",
        "        print('I am the main class')\n",
        "class NewClass:\n",
        "    def __init__(self,obj):\n",
        "        self.main = obj\n",
        "    def welcome(self):\n",
        "        self.main.sayHi()\n",
        "\n",
        "m = Myclass()        \n",
        "n = NewClass(m)\n",
        "m.sayHi()\n",
        "n.main.sayHi()\n",
        "n.welcome()\n",
        "n.main.whoAmI()"
      ],
      "metadata": {
        "colab": {
          "base_uri": "https://localhost:8080/"
        },
        "id": "3rKj_9C6O9p2",
        "outputId": "cf6c2e7f-4ad4-439b-d8bc-cd8d766d8985"
      },
      "execution_count": 3,
      "outputs": [
        {
          "output_type": "stream",
          "name": "stdout",
          "text": [
            "Hey iam back\n",
            "Hey iam back\n",
            "Hey iam back\n",
            "I am the main class\n"
          ]
        }
      ]
    },
    {
      "cell_type": "markdown",
      "source": [
        "**Q3. What is the concept of composition?**\n",
        "\n",
        "**Ans:** In the concept of Composition, a class refers to one or more other classes by using instances of those classes as a instance variable. irrespective of inheritence in this approach all the parent class members are not inherited into child class, but only required methods from a class are used by using class instances."
      ],
      "metadata": {
        "id": "V7VT0Y21PG9m"
      }
    },
    {
      "cell_type": "code",
      "source": [
        "class Salary:\n",
        "    def __init__(self,pay):\n",
        "        self.pay = pay\n",
        "    def get_total(self):\n",
        "        return self.pay*12\n",
        "    \n",
        "class Employee:\n",
        "    def __init__(self,pay,bonus):\n",
        "        self.pay = pay\n",
        "        self.bonus = bonus\n",
        "        self.obj_salary = Salary(self.pay)\n",
        "    def annual_salary(self):\n",
        "        return f'Total Salary : {str(self.obj_salary.get_total())}'\n",
        "\n",
        "obj_emp = Employee(800,500)\n",
        "print(obj_emp.annual_salary())"
      ],
      "metadata": {
        "colab": {
          "base_uri": "https://localhost:8080/"
        },
        "id": "TxwnV9ojPOpm",
        "outputId": "1964c8c0-139f-4a9c-a40f-74b521b3bcca"
      },
      "execution_count": 4,
      "outputs": [
        {
          "output_type": "stream",
          "name": "stdout",
          "text": [
            "Total Salary : 9600\n"
          ]
        }
      ]
    },
    {
      "cell_type": "markdown",
      "source": [
        "**Q4. What are bound methods and how do we use them?**\n",
        "\n",
        "**Ans:** If a function is an attribute of class and it is accessed via the instances, they are called **bound methods**. A bound method is one that has **self** as its first argument. Since these are dependent on the instance of classes, these are also known as **instance methods**."
      ],
      "metadata": {
        "id": "uZk2m87tPcC0"
      }
    },
    {
      "cell_type": "code",
      "source": [
        "class Test:\n",
        "    def method_one(self): # bound method\n",
        "        print(\"Called method_one\")\n",
        "    @classmethod\n",
        "    def method_two(cls): # unbound method\n",
        "        print(\"Called method_two\")\n",
        "    @staticmethod\n",
        "    def method_three(): # static method\n",
        "        print(\"Called method_three\")\n",
        "\n",
        "test = Test()\n",
        "test.method_one() \n",
        "test.method_two() \n",
        "Test.method_two()\n",
        "Test.method_three()"
      ],
      "metadata": {
        "colab": {
          "base_uri": "https://localhost:8080/"
        },
        "id": "ZR4vIKrvP21E",
        "outputId": "ef6407f8-f27c-48e5-9246-154d205c72e3"
      },
      "execution_count": 5,
      "outputs": [
        {
          "output_type": "stream",
          "name": "stdout",
          "text": [
            "Called method_one\n",
            "Called method_two\n",
            "Called method_two\n",
            "Called method_three\n"
          ]
        }
      ]
    },
    {
      "cell_type": "markdown",
      "source": [
        "**Q5. What is the purpose of pseudoprivate attributes?**\n",
        "\n",
        "**Ans:** Pseudoprivate attributes are also useful in larger frameworks or tools, both to avoid introducing new method names that might accidentally hide definitions elsewhere in the class tree and to reduce the chance of internal methods being replaced by names defined lower in the tree. If a method is intended for use only within a class that may be mixed into other classes, the double underscore prefix ensures that the method won't interfere with other names in the tree, especially in multiple-inheritance scenarios\n",
        "\n",
        "Pseudoprivate names also prevent subclasses from accidentally redefining the internal method's names,"
      ],
      "metadata": {
        "id": "HIPc-GE4QLx5"
      }
    },
    {
      "cell_type": "code",
      "source": [
        "class Super:\n",
        "    def method(self): # A real application method\n",
        "        pass\n",
        "class Tool:\n",
        "    def _method(self): # becomes _Tool_method\n",
        "        pass\n",
        "    def other(self): # uses internal method\n",
        "        self._method()\n",
        "class Subl(Tool,Super):\n",
        "    def actions(self):\n",
        "        self.method()\n",
        "class Sub2(Tool):\n",
        "    def __init__(self):\n",
        "        self.method = 99"
      ],
      "metadata": {
        "id": "PNBlRTFIQV3z"
      },
      "execution_count": 6,
      "outputs": []
    }
  ]
}