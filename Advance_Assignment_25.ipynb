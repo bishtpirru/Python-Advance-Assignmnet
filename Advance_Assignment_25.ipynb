{
  "nbformat": 4,
  "nbformat_minor": 0,
  "metadata": {
    "colab": {
      "provenance": []
    },
    "kernelspec": {
      "name": "python3",
      "display_name": "Python 3"
    },
    "language_info": {
      "name": "python"
    }
  },
  "cells": [
    {
      "cell_type": "markdown",
      "source": [
        "#Assignment 25"
      ],
      "metadata": {
        "id": "N7ZnJ_8BDnra"
      }
    },
    {
      "cell_type": "markdown",
      "source": [
        "**Q1. What is the distinction between a numpy array and a pandas data frame? Is there a way to convert between the two if there is?**\n",
        "\n",
        "**Ans:** Numpy Ndarray provides a lot of convenient and optimized methods for performing several mathematical operations on vectors.\n",
        "\n",
        "Pandas Dataframe is an in-memory 2-dimensional tabular representation of data. In simpler words, it can be seen as a spreadsheet having rows and columns.\n",
        "\n",
        "Conversion : **Dataframe=pandas.DataFrame(array)**"
      ],
      "metadata": {
        "id": "LsjZWLxcDtQk"
      }
    },
    {
      "cell_type": "markdown",
      "source": [
        "**Q2. Identify some of the plotting techniques that are used to produce a stock-market chart ?**\n",
        "\n",
        "**Ans:** Bar chart, Line Chart are used for plotting."
      ],
      "metadata": {
        "id": "5FZAxK3ZDtTl"
      }
    },
    {
      "cell_type": "markdown",
      "source": [
        "**Q3. Why is it essential to print a legend on a stock market chart ?**\n",
        "\n",
        "**Ans:** Legend will help comparison between different stocks, so will be essential on a stock market chart"
      ],
      "metadata": {
        "id": "vwtHpXhDDtWV"
      }
    },
    {
      "cell_type": "markdown",
      "source": [
        "**Q4. What is the best way to limit the length of a pandas data frame to less than a year ?**\n",
        "\n",
        "**Ans:** We can use start and end parameters for that. In start we write the date from where we are starting and at the end we write the end date. SO within this span we can restric the duration.Also we can use the parameters like periods for how much times we need the duration and we can also use the frequency parameter."
      ],
      "metadata": {
        "id": "Fh3wDUPUDtaN"
      }
    },
    {
      "cell_type": "markdown",
      "source": [
        "**Q5. What is the definition of a 180-day moving average ?**\n",
        "\n",
        "**Ans:**  The 180-day moving average is represented as a line on charts and represents the average price over the past 180 days. The moving average can give traders a sense regarding whether the trend is up or down, while also identifying potential support or resistance areas."
      ],
      "metadata": {
        "id": "1HvQOEvlDtch"
      }
    }
  ]
}