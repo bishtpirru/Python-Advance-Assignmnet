{
  "nbformat": 4,
  "nbformat_minor": 0,
  "metadata": {
    "colab": {
      "provenance": []
    },
    "kernelspec": {
      "name": "python3",
      "display_name": "Python 3"
    },
    "language_info": {
      "name": "python"
    }
  },
  "cells": [
    {
      "cell_type": "markdown",
      "source": [
        "#Assignment 21"
      ],
      "metadata": {
        "id": "6IeP_dzl40Nf"
      }
    },
    {
      "cell_type": "markdown",
      "source": [
        "**Q1. What is a probability distribution, exactly? If the values are meant to be random, how can you predict them at all ?**\n",
        "\n",
        "**Ans:** A probability distribution describes how a random variable is distributed.\n",
        "\n",
        "It tells us which values a random variable is most likely to take on and which values are less likely. Based on the previous data and the occurences of the random event, we can predict the outcome in terms of probabilities."
      ],
      "metadata": {
        "id": "Zkc23s4V5WbZ"
      }
    },
    {
      "cell_type": "markdown",
      "source": [
        "**Q2. Is there a distinction between true random numbers and pseudo-random numbers, if there is one? Why are the latter considered “good enough”?**\n",
        "\n",
        "**Ans:** True Random Numbers are true physical values while pseudo-random numbers are generated internally by a program . Latter is considered good enough as they have sort of uniform distribution."
      ],
      "metadata": {
        "id": "b3SwzHbv5Wp2"
      }
    },
    {
      "cell_type": "markdown",
      "source": [],
      "metadata": {
        "id": "0_luEGzl5WsX"
      }
    },
    {
      "cell_type": "markdown",
      "source": [
        "**Q3. What are the two main factors that influence the behaviour of a \"normal\" probability distribution ?**\n",
        "\n",
        "**Ans:** Normal Probability Distribution are influenced by two factors mean and the variance."
      ],
      "metadata": {
        "id": "NONS6S7C5WvQ"
      }
    },
    {
      "cell_type": "markdown",
      "source": [
        "**Q4. Provide a real-life example of a normal distribution ?**\n",
        "\n",
        "**Ans:** A Real-life example of a normal distribution are heights or blood pressure measurements"
      ],
      "metadata": {
        "id": "6fLlv38Y5Wxb"
      }
    },
    {
      "cell_type": "markdown",
      "source": [
        "**Q5. In the short term, how can you expect a probability distribution to behave? What do you think will happen as the number of trials grows ?**\n",
        "\n",
        "**Ans:** Variance will decrease with number of trials"
      ],
      "metadata": {
        "id": "KwZmfNP_5W0v"
      }
    },
    {
      "cell_type": "markdown",
      "source": [
        "**Q6. What kind of object can be shuffled by using random.shuffle ?**\n",
        "\n",
        "**Ans:** lists (list), strings (str) and tuples (tuple) objects can be shuffled by using random.shuffle."
      ],
      "metadata": {
        "id": "cxqL-gTT5W26"
      }
    },
    {
      "cell_type": "markdown",
      "source": [
        "**Q7. Describe the math package's general categories of functions ?**\n",
        "\n",
        "**Ans:** The Math package's general categories of functions are:\n",
        "\n",
        "1.Trigonometric functions\n",
        "\n",
        "2.Quadratic functions\n",
        "\n",
        "3.Exponential functions\n",
        "\n",
        "4.Hyperbolic functions\n",
        "\n",
        "5.Periodic functions\n",
        "\n",
        "6.Arithmetic functions\n",
        "\n",
        "7.Logarithimic functions\n",
        "\n",
        "8.Conversions to Integer"
      ],
      "metadata": {
        "id": "TisYPRiU5W6P"
      }
    },
    {
      "cell_type": "markdown",
      "source": [
        "**Q8. What is the relationship between exponentiation and logarithms ?**\n",
        "\n",
        "**Ans:** Exponentiation and logarithms are inverse of each other."
      ],
      "metadata": {
        "id": "m0UDRuaK5W8b"
      }
    },
    {
      "cell_type": "markdown",
      "source": [
        "**Q9. What are the three logarithmic functions that Python supports ?**\n",
        "\n",
        "**Ans:** The Three Logarithmic Functions that Python supports are:\n",
        "\n",
        "1.log2(x) - logarithmic value of x to base 2\n",
        "2.log10(x) - logarithmic value of x to base 10\n",
        "3.log1p(a) - This function is used to compute logarithm(1+a) s"
      ],
      "metadata": {
        "id": "UboE86vY5W_S"
      }
    }
  ]
}