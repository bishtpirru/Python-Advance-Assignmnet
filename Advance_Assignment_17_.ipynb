{
  "nbformat": 4,
  "nbformat_minor": 0,
  "metadata": {
    "colab": {
      "provenance": []
    },
    "kernelspec": {
      "name": "python3",
      "display_name": "Python 3"
    },
    "language_info": {
      "name": "python"
    }
  },
  "cells": [
    {
      "cell_type": "markdown",
      "source": [
        "#Assignment 17"
      ],
      "metadata": {
        "id": "NBBOZpa4096q"
      }
    },
    {
      "cell_type": "markdown",
      "source": [
        "**Q1. Explain the difference between greedy and non-greedy syntax with visual terms in as few words as possible. What is the bare minimum effort required to transform a greedy pattern into a non-greedy one? What characters or characters can you introduce or change?**\n",
        "\n",
        "**Ans:** The Main difference between Greedy and Non Greedy Match Syntax is The Greedy Match will try to match as many repetitions of the quantified pattern as possible Whereas The Non Greedy Match will try to match as few repetitions of the quantified pattern as possible"
      ],
      "metadata": {
        "id": "5nHigl9a1HAO"
      }
    },
    {
      "cell_type": "code",
      "source": [
        "import re\n",
        "print(re.findall(\"v*\", \"vvvvvv\")) # Greedy Match Synatx\n",
        "print(re.findall(\"v*?\", \"vvvvvv\")) # Non Greddy Syntax"
      ],
      "metadata": {
        "colab": {
          "base_uri": "https://localhost:8080/"
        },
        "id": "lg0QTa6C1cCL",
        "outputId": "8094a38e-df4f-4244-cdd8-21681b298fbc"
      },
      "execution_count": 1,
      "outputs": [
        {
          "output_type": "stream",
          "name": "stdout",
          "text": [
            "['vvvvvv', '']\n",
            "['', 'v', '', 'v', '', 'v', '', 'v', '', 'v', '', 'v', '']\n"
          ]
        }
      ]
    },
    {
      "cell_type": "markdown",
      "source": [
        "**Q2. When exactly does greedy versus non-greedy make a difference? What if you're looking for a non-greedy match but the only one available is greedy?**\n",
        "\n",
        "**Ans:** The Greedy Match will try to match as many repetitions of the quantified pattern as possible. The Non Greedy Match will try to match as few repetitions of the quantified pattern as possible. If only Non Greedy Match is available, we can use other filtering or pattern matching methods of regex and further identify the required pattern."
      ],
      "metadata": {
        "id": "2dFy4AAF1a8F"
      }
    },
    {
      "cell_type": "markdown",
      "source": [
        "**Q3. In a simple match of a string, which looks only for one match and does not do any replacement, is the use of a nontagged group likely to make any practical difference?**\n",
        "\n",
        "**Ans:** In this Case The Non Tagged Group will not make any diffrence in this case."
      ],
      "metadata": {
        "id": "L3pS4Tpz1q65"
      }
    },
    {
      "cell_type": "code",
      "source": [
        "import re\n",
        "phoneNumRegex = re.compile(r'\\d\\d\\d')\n",
        "num = phoneNumRegex.search('My number is 234-567-8901.')\n",
        "print(f'Phone number found -> {num.group()}') # Non Tagged group\n",
        "print(f'Phone number found -> {num.group(0)}') # Tagged Group"
      ],
      "metadata": {
        "colab": {
          "base_uri": "https://localhost:8080/"
        },
        "id": "mlsaIuPc10SD",
        "outputId": "f27fc9cb-3a3f-428f-c613-e9b65b70a73e"
      },
      "execution_count": 2,
      "outputs": [
        {
          "output_type": "stream",
          "name": "stdout",
          "text": [
            "Phone number found -> 234\n",
            "Phone number found -> 234\n"
          ]
        }
      ]
    },
    {
      "cell_type": "markdown",
      "source": [
        "**Q4. Describe a scenario in which using a nontagged category would have a significant impact on the program's outcomes ?**\n",
        "\n",
        "**Ans:** Here in the below Code Snippet . decimal is not tagged or captured. It will useful in scenarios where the separator of value in a string is of no use and we need to capture only the values."
      ],
      "metadata": {
        "id": "zYwKiS_M11n3"
      }
    },
    {
      "cell_type": "code",
      "source": [
        "import re\n",
        "text='135.456'\n",
        "pattern=r'(\\d+)(?:.)(\\d+)'\n",
        "regobj=re.compile(pattern)\n",
        "matobj=regobj.search(text)\n",
        "matobj.groups()"
      ],
      "metadata": {
        "colab": {
          "base_uri": "https://localhost:8080/"
        },
        "id": "POLq7gLg19Yy",
        "outputId": "ea829187-4e58-4397-820d-47267a3a9f11"
      },
      "execution_count": 3,
      "outputs": [
        {
          "output_type": "execute_result",
          "data": {
            "text/plain": [
              "('135', '456')"
            ]
          },
          "metadata": {},
          "execution_count": 3
        }
      ]
    },
    {
      "cell_type": "markdown",
      "source": [
        "**Q5. Unlike a normal regex pattern, a look-ahead condition does not consume the characters it examines. Describe a situation in which this could make a difference in the results of your programme ?**\n",
        "\n",
        "**Ans:** While counting the number of multiple lines or mutiple sentence in a string the positive look ahead makes a difference, without which we wont get the correct count of lines or sentences in a string."
      ],
      "metadata": {
        "id": "M6YYEziN2INe"
      }
    },
    {
      "cell_type": "markdown",
      "source": [
        "**Q6. In standard expressions, what is the difference between positive look-ahead and negative look-ahead ?**\n",
        "\n",
        "**Ans:** Positive Lookahead allows to add a condition for **what follows**. Negative Lookahead is similar, but it looks behind. That is, it allows to match a pattern only if there’s something before it."
      ],
      "metadata": {
        "id": "bbNfXQgT2S5o"
      }
    },
    {
      "cell_type": "markdown",
      "source": [
        "**Q7. What is the benefit of referring to groups by name rather than by number in a standard expression?**\n",
        "\n",
        "**Ans:** Referring to groups by name rather than by number in a standard expression helps to keep the code clear and easy to understand."
      ],
      "metadata": {
        "id": "TrZnj9SG2b3T"
      }
    },
    {
      "cell_type": "markdown",
      "source": [
        "**Q8. Can you identify repeated items within a target string using named groups, as in \"The cow jumped over the moon\"?**"
      ],
      "metadata": {
        "id": "06IAq1572b8a"
      }
    },
    {
      "cell_type": "code",
      "source": [
        "import re\n",
        "text = \"The cow jumped over the moon\"\n",
        "regobj=re.compile(r'(?P<w1>The)',re.I)\n",
        "regobj.findall(text)"
      ],
      "metadata": {
        "colab": {
          "base_uri": "https://localhost:8080/"
        },
        "id": "Hkod4tGd2oxP",
        "outputId": "ed818e36-f604-4f4d-8537-addb98041180"
      },
      "execution_count": 4,
      "outputs": [
        {
          "output_type": "execute_result",
          "data": {
            "text/plain": [
              "['The', 'the']"
            ]
          },
          "metadata": {},
          "execution_count": 4
        }
      ]
    },
    {
      "cell_type": "markdown",
      "source": [],
      "metadata": {
        "id": "CMDoVXzy23B1"
      }
    },
    {
      "cell_type": "markdown",
      "source": [
        "**Q9. When parsing a string, what is at least one thing that the Scanner interface does for you that the re.findall feature does not ?**\n",
        "\n",
        "**Ans:** **re.findall()** module is used to search for **all** occurrences that match a given pattern. In contrast, **re.search()** will only return the first occurrence that matches the specified pattern. **re.findall()** will iterate over all the lines of the file and will return all non-overlapping matches of pattern in a single step."
      ],
      "metadata": {
        "id": "nSit3el323JT"
      }
    },
    {
      "cell_type": "markdown",
      "source": [
        "**Q10. Does a scanner object have to be named scanner?**\n",
        "\n",
        "**Ans:** Yes, It may have any name."
      ],
      "metadata": {
        "id": "IwK-91u43Eiy"
      }
    }
  ]
}