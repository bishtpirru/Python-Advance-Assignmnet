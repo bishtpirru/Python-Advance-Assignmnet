{
  "nbformat": 4,
  "nbformat_minor": 0,
  "metadata": {
    "colab": {
      "provenance": []
    },
    "kernelspec": {
      "name": "python3",
      "display_name": "Python 3"
    },
    "language_info": {
      "name": "python"
    }
  },
  "cells": [
    {
      "cell_type": "markdown",
      "source": [
        "#Assignment 6"
      ],
      "metadata": {
        "id": "g7lltW43RnXX"
      }
    },
    {
      "cell_type": "markdown",
      "source": [
        "**Q1. Describe three applications for exception processing.**\n",
        "\n",
        "**Ans:** Exception Processing is important to find exceptions that causes the runtime error. As runtime errors Halt the program execution when exception occurs.\n",
        "\n",
        "Exception Processing is used in Various Applications of which few examples are:\n",
        "\n",
        "1.Checking Appropriate use of input in an application\n",
        "2.Checking for Arithmetic exceptions in mathematical executions\n",
        "3.Checking File I/O exceptions during File handling"
      ],
      "metadata": {
        "id": "Q-AEGLw4Rqf2"
      }
    },
    {
      "cell_type": "markdown",
      "source": [
        "**Q2. What happens if you don't do something extra to treat an exception?**\n",
        "\n",
        "**Ans:** If Exceptions are not handled flow of program will be broken during the run time which might lead to a abnormal termination of the program. Inshort inability of program to handle exceptions will result in crashing of program."
      ],
      "metadata": {
        "id": "Mk5uIQOnSDWZ"
      }
    },
    {
      "cell_type": "markdown",
      "source": [
        "**Q3. What are your options for recovering from an exception in your script?**\n",
        "\n",
        "**Ans:** Python provides **try** and **except** statements for recovering from an exception in your script."
      ],
      "metadata": {
        "id": "j0sO9lINSHHo"
      }
    },
    {
      "cell_type": "markdown",
      "source": [
        "**Q4. Describe two methods for triggering exceptions in your script ?**\n",
        "\n",
        "**Ans:** **raise** and **assert** are two methods that can be used to trigger manual exceptions in your script.\n",
        "\n",
        "* **raise** method triggers an exception if condition provided to it turns out to be True.\n",
        "* **assert** will let the program to continue execution if condition provided to it turns out to be True else exception will be raised"
      ],
      "metadata": {
        "id": "GcIh1vb-SVmW"
      }
    },
    {
      "cell_type": "code",
      "source": [
        "# Example of raise\n",
        "x = 10\n",
        "raise Exception(f'X Value Should not exceed 5 The Provided Value of X is {x}')"
      ],
      "metadata": {
        "colab": {
          "base_uri": "https://localhost:8080/",
          "height": 200
        },
        "id": "sfDiDQUESyEn",
        "outputId": "c12e2ea8-d4b7-4685-924d-d1c167b38128"
      },
      "execution_count": 1,
      "outputs": [
        {
          "output_type": "error",
          "ename": "Exception",
          "evalue": "ignored",
          "traceback": [
            "\u001b[0;31m---------------------------------------------------------------------------\u001b[0m",
            "\u001b[0;31mException\u001b[0m                                 Traceback (most recent call last)",
            "\u001b[0;32m<ipython-input-1-3bda0e4dbc13>\u001b[0m in \u001b[0;36m<cell line: 3>\u001b[0;34m()\u001b[0m\n\u001b[1;32m      1\u001b[0m \u001b[0;31m# Example of raise\u001b[0m\u001b[0;34m\u001b[0m\u001b[0;34m\u001b[0m\u001b[0m\n\u001b[1;32m      2\u001b[0m \u001b[0mx\u001b[0m \u001b[0;34m=\u001b[0m \u001b[0;36m10\u001b[0m\u001b[0;34m\u001b[0m\u001b[0;34m\u001b[0m\u001b[0m\n\u001b[0;32m----> 3\u001b[0;31m \u001b[0;32mraise\u001b[0m \u001b[0mException\u001b[0m\u001b[0;34m(\u001b[0m\u001b[0;34mf'X Value Should not exceed 5 The Provided Value of X is {x}'\u001b[0m\u001b[0;34m)\u001b[0m\u001b[0;34m\u001b[0m\u001b[0;34m\u001b[0m\u001b[0m\n\u001b[0m",
            "\u001b[0;31mException\u001b[0m: X Value Should not exceed 5 The Provided Value of X is 10"
          ]
        }
      ]
    },
    {
      "cell_type": "code",
      "source": [
        "# Example of assert\n",
        "assert(2==4), \"2 is not equal to 4\""
      ],
      "metadata": {
        "colab": {
          "base_uri": "https://localhost:8080/",
          "height": 183
        },
        "id": "k3vEd9lNSyQs",
        "outputId": "1d174c9f-668c-4de4-d237-ff246344b6c1"
      },
      "execution_count": 2,
      "outputs": [
        {
          "output_type": "error",
          "ename": "AssertionError",
          "evalue": "ignored",
          "traceback": [
            "\u001b[0;31m---------------------------------------------------------------------------\u001b[0m",
            "\u001b[0;31mAssertionError\u001b[0m                            Traceback (most recent call last)",
            "\u001b[0;32m<ipython-input-2-b3cb1796e5b9>\u001b[0m in \u001b[0;36m<cell line: 2>\u001b[0;34m()\u001b[0m\n\u001b[1;32m      1\u001b[0m \u001b[0;31m# Example of assert\u001b[0m\u001b[0;34m\u001b[0m\u001b[0;34m\u001b[0m\u001b[0m\n\u001b[0;32m----> 2\u001b[0;31m \u001b[0;32massert\u001b[0m\u001b[0;34m(\u001b[0m\u001b[0;36m2\u001b[0m\u001b[0;34m==\u001b[0m\u001b[0;36m4\u001b[0m\u001b[0;34m)\u001b[0m\u001b[0;34m,\u001b[0m \u001b[0;34m\"2 is not equal to 4\"\u001b[0m\u001b[0;34m\u001b[0m\u001b[0;34m\u001b[0m\u001b[0m\n\u001b[0m",
            "\u001b[0;31mAssertionError\u001b[0m: 2 is not equal to 4"
          ]
        }
      ]
    },
    {
      "cell_type": "markdown",
      "source": [
        "**Q5. Identify two methods for specifying actions to be executed at termination time, regardless of whether or not an exception exists.**\n",
        "\n",
        "**Ans:** Python Provides **else** and **finally** blocks for specifying actions to be executed at termination time, regardless of whether an exceptions exists or not."
      ],
      "metadata": {
        "id": "VJxlYPOsSsqB"
      }
    }
  ]
}