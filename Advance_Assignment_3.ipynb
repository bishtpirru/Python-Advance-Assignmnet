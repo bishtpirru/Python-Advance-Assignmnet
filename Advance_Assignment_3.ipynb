{
  "nbformat": 4,
  "nbformat_minor": 0,
  "metadata": {
    "colab": {
      "provenance": []
    },
    "kernelspec": {
      "name": "python3",
      "display_name": "Python 3"
    },
    "language_info": {
      "name": "python"
    }
  },
  "cells": [
    {
      "cell_type": "markdown",
      "source": [
        "#Assignment 3"
      ],
      "metadata": {
        "id": "AfOarvWXR7h8"
      }
    },
    {
      "cell_type": "markdown",
      "source": [
        "**1. What is the concept of an abstract superclass?**\n",
        "\n",
        "**Ans:** An abstract class/superclass can be considered as a blueprint for other classes. It allows you to create a set of methods that must be created within any child classes built from the abstract class. A class which contains one or more abstract methods is called an abstract class.\n",
        "\n",
        "Whereas an abstract method is a method that has a declaration but does not have an implementation"
      ],
      "metadata": {
        "id": "pVVidxj-SM5e"
      }
    },
    {
      "cell_type": "code",
      "source": [
        "from abc import ABC, abstractmethod\n",
        "class Polygon(ABC): \n",
        "    @abstractmethod\n",
        "    def noofsides(self): \n",
        "        pass\n",
        "class Triangle(Polygon):\n",
        "    def noofsides(self):  \n",
        "        print(\"I have 3 sides\")\n",
        "class Pentagon(Polygon):\n",
        "    def noofsides(self): \n",
        "        print(\"I have 5 sides\")"
      ],
      "metadata": {
        "id": "H8iO1-h1SNpS"
      },
      "execution_count": null,
      "outputs": []
    },
    {
      "cell_type": "markdown",
      "source": [
        "**2. What happens when a class statement's top level contains a basic assignment statement?**\n",
        "\n",
        "**Ans:** When a Class statement's top level contains a basic assignment statement, its usually treated as a class attribute or class level variable.\n",
        "\n",
        "where as assignment statements inside methods are treated as instance attributes or local attributes.\n",
        "\n",
        "When an instance of a class is created a single copy of class attributes is maintained and shared to all instances of class. where as each instance object maintains its own copy of instance variables."
      ],
      "metadata": {
        "id": "2ANypyoVSOD0"
      }
    },
    {
      "cell_type": "code",
      "source": [
        "class Person:\n",
        "    species = 'Homesapiens' # class attribute\n",
        "    def __init__(self,name,gender):\n",
        "        self.name = name # instance attributes\n",
        "        self.gender = gender"
      ],
      "metadata": {
        "id": "za0laqB0S7YY"
      },
      "execution_count": null,
      "outputs": []
    },
    {
      "cell_type": "markdown",
      "source": [
        "**3. Why does a class need to manually call a superclass's init method?**\n",
        "\n",
        "**Ans:** if a child class has__init__ method, then it will not inherit the__init__ method of the parent class. in other words the__init__ method of the child class overrides the__init__ method of the parent class. so we have to manually call a parent superclass's__init__ using super() method"
      ],
      "metadata": {
        "id": "c1-SkvW1TJXF"
      }
    },
    {
      "cell_type": "code",
      "source": [
        "class Person:\n",
        "    def __init__(self,name,age):\n",
        "        self.name = name\n",
        "        self.age = age       \n",
        "class Employee(Person):\n",
        "    def __init__(self,name,age,salary):\n",
        "        super().__init__(name,age)\n",
        "        self.salary = salary\n",
        "emp_1 = Employee('ritik',24,20000)\n",
        "print(emp_1.__dict__)"
      ],
      "metadata": {
        "colab": {
          "base_uri": "https://localhost:8080/"
        },
        "id": "58vdsYAgTOpl",
        "outputId": "052cad2f-9f47-4bee-cddb-ff7ba780dec0"
      },
      "execution_count": null,
      "outputs": [
        {
          "output_type": "stream",
          "name": "stdout",
          "text": [
            "{'name': 'ritik', 'age': 24, 'salary': 20000}\n"
          ]
        }
      ]
    },
    {
      "cell_type": "markdown",
      "source": [
        "**4. How can you augment, instead of completely replacing, an inherited method?**\n",
        "\n",
        "**Ans:** super() method can be used to augment, instead of completely replacing, an inherited method."
      ],
      "metadata": {
        "id": "cAbMKYhaTnCe"
      }
    },
    {
      "cell_type": "code",
      "source": [
        "class Person:\n",
        "    def __init__(self,name,gender):\n",
        "        self.name = name\n",
        "        self.gender = gender\n",
        "class Employee(Person):\n",
        "    def __init__(self,name,gender,salary):\n",
        "        super().__init__(name,gender) \n",
        "        self.salary = salary\n",
        "emp_1 = Employee('Ritik','Male',12000)\n",
        "print(emp_1.__dict__)       "
      ],
      "metadata": {
        "colab": {
          "base_uri": "https://localhost:8080/"
        },
        "id": "pbXE73TuTw5m",
        "outputId": "d32c69f0-28fb-417b-dbce-c00bf3d2fda9"
      },
      "execution_count": null,
      "outputs": [
        {
          "output_type": "stream",
          "name": "stdout",
          "text": [
            "{'name': 'Ritik', 'gender': 'Male', 'salary': 12000}\n"
          ]
        }
      ]
    },
    {
      "cell_type": "markdown",
      "source": [
        "**5. How is the local scope of a class different from that of a function?**\n",
        "\n",
        "**Ans:** A Variable which is defined inside a function is local to that function. it is accesible from the point at which it is defined until the end of the function, and exists for as long as the function is existing.\n",
        "\n",
        "Similary a variable inside of a class also has a local variable scope. Variables which are defined in the class body (but outside all methods) are called as class level variables or class attributes. they can be referenced by there bare names within the same scope, but they can also be accessed from outside this scope if we use the attribute access operator (.). on a class or an instance of the class."
      ],
      "metadata": {
        "id": "apQkKLzpT7iQ"
      }
    },
    {
      "cell_type": "code",
      "source": [
        "def hello(name):\n",
        "    name = name\n",
        "    print(f'you\\'re name is {name}')\n",
        "hello('Ritik negi')\n",
        "try:\n",
        "    name\n",
        "except NameError:\n",
        "    print('Name varible is not available outside hello function scope')\n",
        "\n",
        "class Person:\n",
        "    species = \"HomeSapines\"\n",
        "    def __init__(self):\n",
        "        pass\n",
        "print(Person.species) # Accessing species using class name\n",
        "Male = Person()\n",
        "print(Male.species) # Accessing species using instance of class"
      ],
      "metadata": {
        "colab": {
          "base_uri": "https://localhost:8080/"
        },
        "id": "7cZ7UO48UKZ_",
        "outputId": "e023991d-970c-4c39-aabf-6e09e4f29ea1"
      },
      "execution_count": null,
      "outputs": [
        {
          "output_type": "stream",
          "name": "stdout",
          "text": [
            "you're name is Ritik negi\n",
            "Name varible is not available outside hello function scope\n",
            "HomeSapines\n",
            "HomeSapines\n"
          ]
        }
      ]
    },
    {
      "cell_type": "markdown",
      "source": [],
      "metadata": {
        "id": "7fhAahSWUaQ2"
      }
    }
  ]
}